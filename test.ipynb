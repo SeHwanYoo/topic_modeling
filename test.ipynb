{
 "cells": [
  {
   "cell_type": "code",
   "execution_count": 1,
   "metadata": {},
   "outputs": [],
   "source": [
    "import tensorflow as tf "
   ]
  },
  {
   "cell_type": "code",
   "execution_count": 2,
   "metadata": {},
   "outputs": [],
   "source": [
    "(train_x, train_y), (test_x, test_y) = tf.keras.datasets.mnist.load_data()\n",
    "train_x = train_x / .255 \n",
    "test_x = test_x / .255"
   ]
  },
  {
   "cell_type": "code",
   "execution_count": null,
   "metadata": {},
   "outputs": [],
   "source": []
  },
  {
   "cell_type": "code",
   "execution_count": 3,
   "metadata": {},
   "outputs": [],
   "source": [
    "train_x = train_x[..., tf.newaxis] \n",
    "test_x = test_x[..., tf.newaxis]"
   ]
  },
  {
   "cell_type": "code",
   "execution_count": 4,
   "metadata": {},
   "outputs": [],
   "source": [
    "train_ds = tf.data.Dataset.from_tensor_slices((train_x, train_y))\n",
    "train_ds = train_ds.shuffle(100) \n",
    "train_ds = train_ds.batch(32) \n",
    "\n",
    "test_ds = tf.data.Dataset.from_tensor_slices((test_x, test_y))\n",
    "# test_ds = test_ds.shuffle(100) \n",
    "test_ds = test_ds.batch(32) "
   ]
  },
  {
   "cell_type": "code",
   "execution_count": 5,
   "metadata": {},
   "outputs": [
    {
     "data": {
      "text/plain": [
       "((60000, 28, 28, 1), (10000, 28, 28, 1))"
      ]
     },
     "execution_count": 5,
     "metadata": {},
     "output_type": "execute_result"
    }
   ],
   "source": [
    "train_x.shape, test_x.shape"
   ]
  },
  {
   "cell_type": "code",
   "execution_count": 6,
   "metadata": {},
   "outputs": [],
   "source": [
    "inputs = tf.keras.layers.Input((28, 28, 1))\n",
    "\n",
    "net = tf.keras.layers.Conv2D(32, (3, 3), padding='same')(inputs)\n",
    "net = tf.keras.layers.Activation('relu')(net)\n",
    "net = tf.keras.layers.Conv2D(32, (3, 3), padding='same')(net)\n",
    "net = tf.keras.layers.Activation('relu')(net)\n",
    "net = tf.keras.layers.MaxPooling2D(pool_size=(2, 2))(net)\n",
    "net = tf.keras.layers.Dropout(0.25)(net)\n",
    "\n",
    "net = tf.keras.layers.Conv2D(32, (3, 3), padding='same')(inputs)\n",
    "net = tf.keras.layers.Activation('relu')(net)\n",
    "net = tf.keras.layers.Conv2D(32, (3, 3), padding='same')(net)\n",
    "net = tf.keras.layers.Activation('relu')(net)\n",
    "net = tf.keras.layers.MaxPooling2D(pool_size=(2, 2))(net)\n",
    "net = tf.keras.layers.Dropout(0.25)(net)\n",
    "\n",
    "net = tf.keras.layers.Flatten()(net)\n",
    "net = tf.keras.layers.Dense(512)(net)\n",
    "net = tf.keras.layers.Activation('relu')(net)\n",
    "net = tf.keras.layers.Dropout(0.5)(net)\n",
    "net = tf.keras.layers.Dense(10)(net)\n",
    "net = tf.keras.layers.Activation('softmax')(net)\n",
    "\n",
    "model = tf.keras.Model(inputs = inputs, outputs = net)\n"
   ]
  },
  {
   "cell_type": "code",
   "execution_count": 7,
   "metadata": {},
   "outputs": [],
   "source": [
    "loss_object = tf.keras.losses.SparseCategoricalCrossentropy() \n",
    "optimizer = tf.keras.optimizers.Adam() "
   ]
  },
  {
   "cell_type": "code",
   "execution_count": 8,
   "metadata": {},
   "outputs": [],
   "source": [
    "train_loss = tf.keras.metrics.Mean(name='train_loss')\n",
    "train_accuracy = tf.keras.metrics.SparseCategoricalAccuracy(name='train_accuracy')\n",
    "\n",
    "test_loss = tf.keras.metrics.Mean(name='test_loss')\n",
    "test_accuracy = tf.keras.metrics.SparseCategoricalAccuracy(name='test_accuracy')"
   ]
  },
  {
   "cell_type": "code",
   "execution_count": 11,
   "metadata": {},
   "outputs": [],
   "source": [
    "@tf.function\n",
    "def train_step(images, labels):\n",
    "    with tf.GradientTape() as tape:\n",
    "        predictions = model(images)\n",
    "        loss = loss_object(labels, predictions)\n",
    "    gradients = tape.gradient(loss, model.trainable_variables)\n",
    "    optimizer.apply_gradients(zip(gradients, model.trainable_variables))\n",
    "\n",
    "    train_loss(loss)\n",
    "    train_accuracy(labels, predictions)\n",
    "\n",
    "@tf.function\n",
    "def test_step(images, labels):\n",
    "    # with tf.GradientTape() as tape:\n",
    "    predictions = model(images)\n",
    "    loss = loss_object(labels, predictions)\n",
    "    # gradients = tape.gradient(loss, model.trainable_variables)\n",
    "    # optimizer.apply_gradients(zip(gradients, model.trainable_variables))\n",
    "\n",
    "    test_loss(loss)\n",
    "    test_accuracy(labels, predictions)"
   ]
  },
  {
   "cell_type": "code",
   "execution_count": 10,
   "metadata": {},
   "outputs": [
    {
     "name": "stdout",
     "output_type": "stream",
     "text": [
      "Epoch : 1 . Loss : 1.104750394821167 . Accuracy : 94.68333435058594 . Test Loss : 0.14416088163852692 . Test Accuracy : 95.87000274658203\n",
      "Epoch : 2 . Loss : 0.5853633880615234 . Accuracy : 96.3800048828125 . Test Loss : 0.1273391842842102 . Test Accuracy : 96.6500015258789\n",
      "Epoch : 3 . Loss : 0.40934374928474426 . Accuracy : 97.0361099243164 . Test Loss : 0.1263166218996048 . Test Accuracy : 96.80332946777344\n",
      "Epoch : 4 . Loss : 0.3200131952762604 . Accuracy : 97.42666625976562 . Test Loss : 0.12227043509483337 . Test Accuracy : 97.00250244140625\n",
      "Epoch : 5 . Loss : 0.26427149772644043 . Accuracy : 97.71299743652344 . Test Loss : 0.12615768611431122 . Test Accuracy : 97.07599639892578\n",
      "Epoch : 6 . Loss : 0.22637809813022614 . Accuracy : 97.94361114501953 . Test Loss : 0.12545011937618256 . Test Accuracy : 97.21833801269531\n",
      "Epoch : 7 . Loss : 0.19870273768901825 . Accuracy : 98.1145248413086 . Test Loss : 0.12678784132003784 . Test Accuracy : 97.32428741455078\n",
      "Epoch : 8 . Loss : 0.17772997915744781 . Accuracy : 98.25875091552734 . Test Loss : 0.1260726898908615 . Test Accuracy : 97.41874694824219\n",
      "Epoch : 9 . Loss : 0.1614389270544052 . Accuracy : 98.37407684326172 . Test Loss : 0.13374453783035278 . Test Accuracy : 97.40111541748047\n",
      "Epoch : 10 . Loss : 0.1482865959405899 . Accuracy : 98.4768295288086 . Test Loss : 0.13996143639087677 . Test Accuracy : 97.4229965209961\n"
     ]
    }
   ],
   "source": [
    "for epoch in range(10): \n",
    "\n",
    "    for images, labels in train_ds:\n",
    "        train_step(images, labels)\n",
    "\n",
    "    for images, labels in test_ds:\n",
    "        test_step(images, labels)\n",
    "\n",
    "    temp = 'Epoch : {} . Loss : {} . Accuracy : {} . Test Loss : {} . Test Accuracy : {}'\n",
    "\n",
    "    print(temp.format(epoch + 1\n",
    "                    , train_loss.result()\n",
    "                    , train_accuracy.result() * 100\n",
    "                    , test_loss.result()\n",
    "                    , test_accuracy.result() * 100))\n"
   ]
  },
  {
   "cell_type": "code",
   "execution_count": null,
   "metadata": {},
   "outputs": [],
   "source": []
  }
 ],
 "metadata": {
  "interpreter": {
   "hash": "ddde1e1c6000e1d3034bec6257a8f68bed92c50866ae12a8382b98f1add9b5c2"
  },
  "kernelspec": {
   "display_name": "Python 3.9.5 64-bit",
   "name": "python3"
  },
  "language_info": {
   "codemirror_mode": {
    "name": "ipython",
    "version": 3
   },
   "file_extension": ".py",
   "mimetype": "text/x-python",
   "name": "python",
   "nbconvert_exporter": "python",
   "pygments_lexer": "ipython3",
   "version": "3.9.5"
  },
  "orig_nbformat": 4
 },
 "nbformat": 4,
 "nbformat_minor": 2
}
